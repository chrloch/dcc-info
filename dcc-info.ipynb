{
 "cells": [
  {
   "cell_type": "markdown",
   "id": "4c5625f2",
   "metadata": {},
   "source": [
    "# DCC Info Tool\n",
    "\n",
    "This tool prints the contents of a DCC. By default, it tries to read a QR code from a screenshot. You can modify that behavior if needed. \n",
    "\n",
    "It does not verify the signature and is for debugging/analysis only. "
   ]
  },
  {
   "cell_type": "code",
   "execution_count": 1,
   "id": "1db47519",
   "metadata": {},
   "outputs": [
    {
     "name": "stdout",
     "output_type": "stream",
     "text": [
      "KID = b'DEsVUSvpFAE='\n",
      "\n",
      "{-260: {1: {'dob': '1964-08-12',\n",
      "            'nam': {'fn': 'Mustermann',\n",
      "                    'fnt': 'MUSTERMANN',\n",
      "                    'gn': 'Erika',\n",
      "                    'gnt': 'ERIKA'},\n",
      "            'v': [{'ci': 'URN:UVCI:01DE/IZ12345A/5CWLU12RNOB9RXSEOP6FG8#W',\n",
      "                   'co': 'DE',\n",
      "                   'dn': 2,\n",
      "                   'dt': '2021-05-29',\n",
      "                   'is': 'Robert Koch-Institut',\n",
      "                   'ma': 'ORG-100031184',\n",
      "                   'mp': 'EU/1/20/1507',\n",
      "                   'sd': 2,\n",
      "                   'tg': '840539006',\n",
      "                   'vp': '1119349007'}],\n",
      "            'ver': '1.0.0'}},\n",
      " 1: 'DE',\n",
      " 4: 'Timestamp(2022-01-28T08:47:53)',\n",
      " 6: 'Timestamp(2021-05-29T21:21:13)'}\n"
     ]
    }
   ],
   "source": [
    "import zlib\n",
    "import cbor2\n",
    "import pyautogui\n",
    "from pprint import pprint\n",
    "from pyzbar.pyzbar import decode as qr_decode\n",
    "from base45 import b45decode\n",
    "from cose.messages import Sign1Message\n",
    "from datetime import datetime\n",
    "from dcc_more_info import get_kid_b64\n",
    "\n",
    "# Comment the following three lines if you want to enter the QR code data manually \n",
    "image = pyautogui.screenshot()\n",
    "qr_code = qr_decode(image)[0]\n",
    "qr_code_data =  qr_code.data.decode()\n",
    "\n",
    "# Uncomment the following line if you want to enter the QR code data manually \n",
    "# qr_code_data = 'HC1:...'  \n",
    "assert qr_code_data.startswith('HC1:')\n",
    "\n",
    "decompressed = zlib.decompress(b45decode(qr_code_data[4:]))\n",
    "\n",
    "try:\n",
    "    cose_data = Sign1Message.decode(decompressed)\n",
    "    payload = cbor2.loads(cose_data.payload)                           # Uncomment the corresponding line to...\n",
    "    #print('Plain HCERT:\\n', qr_code_data, '\\n\\n')                     # ... print plain HCERT\n",
    "    #print('Plain COSE/CBOR data:', cbor2.loads(decompressed), '\\n\\n') # ... print plain COSE/CBOR\n",
    "    #print(f'Unprotected Header: {cose_data.uhdr}\\n')                  # ... print unprotected header\n",
    "    #print(f'Protected Header: {cose_data.phdr}\\n')                    # ... print protected header\n",
    "    print(f'KID = {get_kid_b64(cose_data)}\\n')                         # ... print key ID\n",
    "\n",
    "except AttributeError: # Nonstandard certs issued by certain countries\n",
    "    print('Non-standard DCC:\\n\\n')\n",
    "    cose_data = cbor2.loads(decompressed)\n",
    "    payload = cbor2.loads(cose_data[2])\n",
    "try:\n",
    "    payload[4] = f'Timestamp({datetime.fromtimestamp(payload[4]).isoformat()})'\n",
    "    payload[6] = f'Timestamp({datetime.fromtimestamp(payload[6]).isoformat()})'\n",
    "except:\n",
    "    pass\n",
    "\n",
    "pprint(payload)\n"
   ]
  }
 ],
 "metadata": {
  "kernelspec": {
   "display_name": "Python 3 (ipykernel)",
   "language": "python",
   "name": "python3"
  },
  "language_info": {
   "codemirror_mode": {
    "name": "ipython",
    "version": 3
   },
   "file_extension": ".py",
   "mimetype": "text/x-python",
   "name": "python",
   "nbconvert_exporter": "python",
   "pygments_lexer": "ipython3",
   "version": "3.9.7"
  }
 },
 "nbformat": 4,
 "nbformat_minor": 5
}
